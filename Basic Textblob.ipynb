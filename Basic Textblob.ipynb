{
 "cells": [
  {
   "cell_type": "code",
   "execution_count": 2,
   "id": "2095c20d",
   "metadata": {},
   "outputs": [],
   "source": [
    "from textblob import TextBlob"
   ]
  },
  {
   "cell_type": "code",
   "execution_count": 3,
   "id": "0cc99e22",
   "metadata": {},
   "outputs": [],
   "source": [
    "import nltk"
   ]
  },
  {
   "cell_type": "code",
   "execution_count": 4,
   "id": "743cbfac",
   "metadata": {},
   "outputs": [],
   "source": [
    "feedback1=\" The education in PKC is good.\"\n",
    "feedback2=\" The eduaction in pkc is bad.\"\n",
    "feedback3=\" The education in PKC is very excellent.\"\n",
    "blob1= TextBlob(feedback1)\n",
    "blob2= TextBlob(feedback2)\n",
    "blob3= TextBlob(feedback3)"
   ]
  },
  {
   "cell_type": "code",
   "execution_count": 5,
   "id": "a07e4386",
   "metadata": {},
   "outputs": [
    {
     "name": "stdout",
     "output_type": "stream",
     "text": [
      "Sentiment(polarity=-0.6999999999999998, subjectivity=0.6666666666666666)\n",
      "Sentiment(polarity=1.0, subjectivity=1.0)\n"
     ]
    }
   ],
   "source": [
    "print(blob2.sentiment)\n",
    "print(blob3.sentiment)"
   ]
  },
  {
   "cell_type": "code",
   "execution_count": 6,
   "id": "6de87255",
   "metadata": {},
   "outputs": [
    {
     "data": {
      "text/plain": [
       "Sentiment(polarity=0.7, subjectivity=0.6000000000000001)"
      ]
     },
     "execution_count": 6,
     "metadata": {},
     "output_type": "execute_result"
    }
   ],
   "source": [
    "blob1.sentiment"
   ]
  },
  {
   "cell_type": "code",
   "execution_count": 43,
   "id": "718e46a8",
   "metadata": {},
   "outputs": [
    {
     "name": "stdout",
     "output_type": "stream",
     "text": [
      "great platform\n",
      "leas data science\n"
     ]
    }
   ],
   "source": [
    "blob=TextBlob('It is a great platform to leas data science.\\n it helps alot of people.')\n",
    "for np in blob.noun_phrases:\n",
    "    print(np)"
   ]
  },
  {
   "cell_type": "code",
   "execution_count": 44,
   "id": "5e26fdf8",
   "metadata": {},
   "outputs": [
    {
     "name": "stdout",
     "output_type": "stream",
     "text": [
      "It PRP\n",
      "is VBZ\n",
      "a DT\n",
      "great JJ\n",
      "platform NN\n",
      "to TO\n",
      "leas VB\n",
      "data NNS\n",
      "science NN\n",
      "it PRP\n",
      "helps VBZ\n",
      "alot NN\n",
      "of IN\n",
      "people NNS\n"
     ]
    }
   ],
   "source": [
    "for words, tags in blob.tags:\n",
    "    print(words, tags)"
   ]
  },
  {
   "cell_type": "code",
   "execution_count": 45,
   "id": "4873f61c",
   "metadata": {},
   "outputs": [
    {
     "name": "stdout",
     "output_type": "stream",
     "text": [
      "helps\n",
      "help\n"
     ]
    }
   ],
   "source": [
    "print(blob.sentences[1].words[1])\n",
    "print(blob.sentences[1].words[1].singularize())"
   ]
  },
  {
   "cell_type": "code",
   "execution_count": 46,
   "id": "893f25f9",
   "metadata": {},
   "outputs": [
    {
     "data": {
      "text/plain": [
       "'Leelas'"
      ]
     },
     "execution_count": 46,
     "metadata": {},
     "output_type": "execute_result"
    }
   ],
   "source": [
    "from textblob import Word\n",
    "p=Word('Leela')\n",
    "p.pluralize()"
   ]
  },
  {
   "cell_type": "code",
   "execution_count": 47,
   "id": "450c03f8",
   "metadata": {},
   "outputs": [
    {
     "name": "stdout",
     "output_type": "stream",
     "text": [
      "['It', 'is', 'a']\n",
      "['is', 'a', 'great']\n",
      "['a', 'great', 'platform']\n",
      "['great', 'platform', 'to']\n",
      "['platform', 'to', 'leas']\n",
      "['to', 'leas', 'data']\n",
      "['leas', 'data', 'science']\n",
      "['data', 'science', 'it']\n",
      "['science', 'it', 'helps']\n",
      "['it', 'helps', 'alot']\n",
      "['helps', 'alot', 'of']\n",
      "['alot', 'of', 'people']\n"
     ]
    }
   ],
   "source": [
    "for ngrams in blob.ngrams(3):\n",
    "    print(ngrams)"
   ]
  },
  {
   "cell_type": "code",
   "execution_count": 48,
   "id": "f3aea434",
   "metadata": {},
   "outputs": [
    {
     "data": {
      "text/plain": [
       "Sentiment(polarity=0.8, subjectivity=0.75)"
      ]
     },
     "execution_count": 48,
     "metadata": {},
     "output_type": "execute_result"
    }
   ],
   "source": [
    "blob.sentiment"
   ]
  },
  {
   "cell_type": "code",
   "execution_count": 49,
   "id": "86fbdae4",
   "metadata": {},
   "outputs": [
    {
     "data": {
      "text/plain": [
       "TextBlob(\"It is a great platform to less data science.\n",
       " it helps clot of people.\")"
      ]
     },
     "execution_count": 49,
     "metadata": {},
     "output_type": "execute_result"
    }
   ],
   "source": [
    "blob.correct()"
   ]
  },
  {
   "cell_type": "code",
   "execution_count": 51,
   "id": "e5025c56",
   "metadata": {},
   "outputs": [
    {
     "data": {
      "text/plain": [
       "[('less', 0.3718338399189463),\n",
       " ('least', 0.19655521783181357),\n",
       " ('lead', 0.13880445795339413),\n",
       " ('legs', 0.11955420466058764),\n",
       " ('seas', 0.037487335359675786),\n",
       " ('leads', 0.03242147922998987),\n",
       " ('les', 0.0182370820668693),\n",
       " ('lens', 0.0121580547112462),\n",
       " ('leash', 0.0121580547112462),\n",
       " ('lean', 0.0121580547112462),\n",
       " ('leaps', 0.00911854103343465),\n",
       " ('pleas', 0.0070921985815602835),\n",
       " ('lets', 0.0070921985815602835),\n",
       " ('leaf', 0.0070921985815602835),\n",
       " ('leap', 0.004052684903748734),\n",
       " ('peas', 0.00303951367781155),\n",
       " ('lease', 0.00303951367781155),\n",
       " ('fleas', 0.00303951367781155),\n",
       " ('yeas', 0.002026342451874367),\n",
       " ('leak', 0.0010131712259371835),\n",
       " ('lea', 0.0010131712259371835),\n",
       " ('las', 0.0010131712259371835)]"
      ]
     },
     "execution_count": 51,
     "metadata": {},
     "output_type": "execute_result"
    }
   ],
   "source": [
    "blob.words[6].spellcheck()"
   ]
  },
  {
   "cell_type": "code",
   "execution_count": 54,
   "id": "24887264",
   "metadata": {},
   "outputs": [
    {
     "data": {
      "text/plain": [
       "WordList(['It', 'is', 'a', 'great', 'platform', 'to', 'leas', 'data', 'science', 'it', 'helps', 'alot', 'of', 'people'])"
      ]
     },
     "execution_count": 54,
     "metadata": {},
     "output_type": "execute_result"
    }
   ],
   "source": [
    "blob.words"
   ]
  },
  {
   "cell_type": "code",
   "execution_count": 59,
   "id": "8b34dd2f",
   "metadata": {},
   "outputs": [
    {
     "data": {
      "text/plain": [
       "defaultdict(int,\n",
       "            {'it': 2,\n",
       "             'is': 1,\n",
       "             'a': 1,\n",
       "             'great': 1,\n",
       "             'platform': 1,\n",
       "             'to': 1,\n",
       "             'leas': 1,\n",
       "             'data': 1,\n",
       "             'science': 1,\n",
       "             'helps': 1,\n",
       "             'alot': 1,\n",
       "             'of': 1,\n",
       "             'people': 1})"
      ]
     },
     "execution_count": 59,
     "metadata": {},
     "output_type": "execute_result"
    }
   ],
   "source": [
    "blob.word_counts"
   ]
  },
  {
   "cell_type": "markdown",
   "id": "3e2c9d25",
   "metadata": {},
   "source": [
    "korean.translate(to=\"en\")"
   ]
  },
  {
   "cell_type": "markdown",
   "id": "5f156529",
   "metadata": {},
   "source": [
    "korean.detect_language()"
   ]
  },
  {
   "cell_type": "code",
   "execution_count": null,
   "id": "a60a0468",
   "metadata": {},
   "outputs": [],
   "source": []
  }
 ],
 "metadata": {
  "kernelspec": {
   "display_name": "Python 3 (ipykernel)",
   "language": "python",
   "name": "python3"
  },
  "language_info": {
   "codemirror_mode": {
    "name": "ipython",
    "version": 3
   },
   "file_extension": ".py",
   "mimetype": "text/x-python",
   "name": "python",
   "nbconvert_exporter": "python",
   "pygments_lexer": "ipython3",
   "version": "3.9.13"
  }
 },
 "nbformat": 4,
 "nbformat_minor": 5
}
